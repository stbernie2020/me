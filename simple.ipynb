{
  "nbformat": 4,
  "nbformat_minor": 0,
  "metadata": {
    "colab": {
      "name": "SimpleCmd",
      "provenance": [],
      "collapsed_sections": []
    },
    "kernelspec": {
      "name": "python3",
      "display_name": "Python 3"
    }
  },
  "cells": [
    {
      "cell_type": "markdown",
      "metadata": {
        "id": "MEmWfuk-JHkn"
      },
      "source": [
        "# **MOUNT GOOGLE DRIVE**"
      ]
    },
    {
      "cell_type": "code",
      "metadata": {
        "id": "G2P3Lr2hKTYN"
      },
      "source": [
        "from google.colab import drive\n",
        "drive.mount('/content/drive/')\n"
      ],
      "execution_count": null,
      "outputs": []
    },
    {
      "cell_type": "markdown",
      "metadata": {
        "id": "mYUfAndyJVT-"
      },
      "source": [
        "# **COMMANDS**"
      ]
    },
    {
      "cell_type": "markdown",
      "metadata": {
        "id": "rwEVZO4L7wKr"
      },
      "source": [
        "**Menghapus 'Copy of' dari nama file**\r\n",
        "> !cd drive/MyDrive/;rename 's/Copy of //' *.mp4\r\n",
        "\r\n",
        "**Mengcopy folder 'Subtitle' beserta isinya ke folder 'backup'**\r\n",
        "> !cp -r drive/MyDrive/Subtitle drive/MyDrive/backup/\r\n",
        "\r\n",
        "**wget Command ke folder abc di Shared Drive plekih**\r\n",
        "> !wget targetURL -P drive/Shareddrives/plekih/abc/\r\n",
        "\r\n",
        "**Decompress command** \r\n",
        "> !unzip drive/Shareddrives/100GB/temp/a.zip -d drive/MyDrive/x/\r\n",
        "\r\n",
        "> !unrar x drive/Shareddrives/100GB/temp/a.rar drive/MyDrive/x/\r\n",
        "\r\n",
        "> ***For encrypted file***\r\n",
        "\r\n",
        "> !unzip -P passwordnya drive/MyDrive/filename.zip  -d drive/MyDrive/abc/\r\n",
        "\r\n",
        "> !unrar x -Y drive/MyDrive/filename.rar drive/MyDrive/abc/\r\n",
        "\r\n",
        "**Download m3u8 streaming to mp4** \r\n",
        "> !npm install -g @sunlt/m3u8-downloader\r\n",
        "\r\n",
        "> !m3u8-downloader -u https://domain.com/index.m3u8 -o drive/MyDrive/testing.mp4\r\n",        
        "\r\n",
        "**Download from Youtube** \r\n",
        "> 1. python3 -m pip install -U yt-dlp\r\n",
        "\r\n",
        "> 2. yt-dlp -f 137+140 https://youtu.be/CmjRfBahdaw -o drive/MyDrive/Babymetal/road.mp4\r\n",        
        "\r\n",
        "\r\n"
      ]
    },
    {
      "cell_type": "code",
      "metadata": {
        "id": "_Y3lkkmn5QAB"
      },
      "source": [
        "!cd drive/MyDrive/;ls -al"
      ],
      "execution_count": null,
      "outputs": []
    },
    {
      "cell_type": "code",
      "metadata": {
        "id": "-jBGdXAla4pH"
      },
      "source": [
        "!cd drive/Shareddrives/unlim/x/;ls -al"
      ],
      "execution_count": null,
      "outputs": []
    },
    {
      "cell_type": "code",
      "metadata": {
        "id": "-c0M-ewfbQ0u"
      },
      "source": [
        "!unzip drive/Shareddrives/unlim/x/a.zip -d drive/MyDrive/x/"
      ],
      "execution_count": null,
      "outputs": []
    },
    {
      "cell_type": "code",
      "metadata": {
        "id": "bDWepq5gcIka"
      },
      "source": [
        "!unrar x drive/Shareddrives/unlim/x/a.rar drive/MyDrive/x/"
      ],
      "execution_count": null,
      "outputs": []
    }
  ]
}
